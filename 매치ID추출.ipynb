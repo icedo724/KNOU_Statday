{
 "cells": [
  {
   "cell_type": "code",
   "execution_count": 10,
   "id": "411401bf-dc34-44a4-b3db-f6a35a69e923",
   "metadata": {},
   "outputs": [],
   "source": [
    "import json\n",
    "import requests\n",
    "import time\n",
    "import pandas as pd\n",
    "import csv"
   ]
  },
  {
   "cell_type": "code",
   "execution_count": 2,
   "id": "a08cbe8b-8057-4cd3-87dc-652d992bc9e8",
   "metadata": {},
   "outputs": [],
   "source": [
    "def read_api_key(file_name=\"api_key.txt\"):\n",
    "    try:\n",
    "        with open(file_name, \"r\") as file:\n",
    "            api_key = file.read().strip()\n",
    "        return api_key\n",
    "    except FileNotFoundError:\n",
    "        print(f\"Error: {file_name} not found.\")\n",
    "        return None\n",
    "    except Exception as e:\n",
    "        print(f\"An error occurred while reading the API key: {e}\")\n",
    "        return None"
   ]
  },
  {
   "cell_type": "code",
   "execution_count": 3,
   "id": "2b0f7745-ee1f-4448-8591-7c61d49a178e",
   "metadata": {},
   "outputs": [
    {
     "name": "stdout",
     "output_type": "stream",
     "text": [
      "API key successfully loaded.\n"
     ]
    }
   ],
   "source": [
    "api_key = read_api_key()\n",
    "if api_key:\n",
    "    print(\"API key successfully loaded.\")\n",
    "else:\n",
    "    print(\"Failed to load API key.\")"
   ]
  },
  {
   "cell_type": "code",
   "execution_count": 4,
   "id": "c4e1fd90-4a2e-4efd-b91d-6b8740a105c2",
   "metadata": {},
   "outputs": [],
   "source": [
    "REQUEST_DELAY = 1.2"
   ]
  },
  {
   "cell_type": "code",
   "execution_count": 5,
   "id": "87f5ede9-ab29-47da-aee1-fbea6d9dbeec",
   "metadata": {},
   "outputs": [],
   "source": [
    "def fetch_data_with_retries(url, max_retries=3, delay=REQUEST_DELAY):\n",
    "    retries = 0\n",
    "    while retries < max_retries:\n",
    "        try:\n",
    "            response = requests.get(url)\n",
    "            if response.status_code == 200:\n",
    "                return response.json()\n",
    "            elif response.status_code == 429:\n",
    "                print(\"Rate limit exceeded. Retrying...\")\n",
    "                time.sleep(delay * 2)\n",
    "            else:\n",
    "                print(f\"Failed request to {url}. Status code: {response.status_code}\")\n",
    "                return None\n",
    "        except requests.RequestException as e:\n",
    "            print(f\"Request error: {e}\")\n",
    "        retries += 1\n",
    "        time.sleep(delay)\n",
    "    return None"
   ]
  },
  {
   "cell_type": "code",
   "execution_count": 6,
   "id": "f13c09dd-d3d1-4fea-a946-6bbff4024aab",
   "metadata": {},
   "outputs": [],
   "source": [
    "grandmaster_url = f'https://kr.api.riotgames.com/tft/league/v1/grandmaster?queue=RANKED_TFT&api_key={api_key}'\n",
    "grandmaster_data = fetch_data_with_retries(grandmaster_url)\n",
    "\n",
    "summoner_ids = []\n",
    "if grandmaster_data:\n",
    "    summoner_ids = [entry['summonerId'] for entry in grandmaster_data['entries']]\n",
    "\n",
    "match_ids = []"
   ]
  },
  {
   "cell_type": "code",
   "execution_count": 7,
   "id": "8e408241-8dad-4a40-a3f9-c14f423a7000",
   "metadata": {},
   "outputs": [],
   "source": [
    "for summoner_id in summoner_ids:\n",
    "    summoner_url = f'https://kr.api.riotgames.com/tft/summoner/v1/summoners/{summoner_id}?api_key={api_key}'\n",
    "    summoner_data = fetch_data_with_retries(summoner_url)\n",
    "    \n",
    "    if summoner_data:\n",
    "        puuid = summoner_data['puuid']\n",
    "        \n",
    "        match_url = f'https://asia.api.riotgames.com/tft/match/v1/matches/by-puuid/{puuid}/ids?start=0&count=20&api_key={api_key}'\n",
    "        match_data = fetch_data_with_retries(match_url)\n",
    "        \n",
    "        if match_data:\n",
    "            match_ids.extend(match_data)\n",
    "        time.sleep(REQUEST_DELAY)"
   ]
  },
  {
   "cell_type": "code",
   "execution_count": 8,
   "id": "a1cda674-834d-4b59-a678-f98238bc693d",
   "metadata": {},
   "outputs": [
    {
     "name": "stdout",
     "output_type": "stream",
     "text": [
      "Total unique match IDs for Grandmaster players in Korea: 6598\n"
     ]
    }
   ],
   "source": [
    "unique_match_ids = list(set(match_ids))\n",
    "\n",
    "print(f'Total unique match IDs for Grandmaster players in Korea: {len(unique_match_ids)}')"
   ]
  },
  {
   "cell_type": "code",
   "execution_count": 14,
   "id": "46284127-1067-43dd-ab22-0e7640c8460f",
   "metadata": {},
   "outputs": [],
   "source": [
    "def save_list_to_csv(data, file_name):\n",
    "    if not data:\n",
    "        print(\"Data is empty, nothing to save.\")\n",
    "        return\n",
    "    \n",
    "    with open(file_name, 'w', newline='', encoding='utf-8') as file:\n",
    "        writer = csv.writer(file)\n",
    "        for item in data:\n",
    "            writer.writerow([item])"
   ]
  },
  {
   "cell_type": "code",
   "execution_count": 15,
   "id": "2c45e270-2510-4835-9b82-f294543ce43d",
   "metadata": {},
   "outputs": [
    {
     "name": "stdout",
     "output_type": "stream",
     "text": [
      "Data saved to match_id_grandmaster_20241223_1403.csv\n"
     ]
    }
   ],
   "source": [
    "file_name = \"match_id_grandmaster_20241223_1403.csv\"\n",
    "save_list_to_csv(unique_match_ids, file_name)\n",
    "print(f\"Data saved to {file_name}\")"
   ]
  },
  {
   "cell_type": "code",
   "execution_count": null,
   "id": "180c753d-ce5a-4f93-b788-83b4ba96c856",
   "metadata": {},
   "outputs": [],
   "source": []
  }
 ],
 "metadata": {
  "kernelspec": {
   "display_name": "Python 3 (ipykernel)",
   "language": "python",
   "name": "python3"
  },
  "language_info": {
   "codemirror_mode": {
    "name": "ipython",
    "version": 3
   },
   "file_extension": ".py",
   "mimetype": "text/x-python",
   "name": "python",
   "nbconvert_exporter": "python",
   "pygments_lexer": "ipython3",
   "version": "3.12.3"
  }
 },
 "nbformat": 4,
 "nbformat_minor": 5
}
